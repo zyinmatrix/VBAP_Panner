{
 "cells": [
  {
   "cell_type": "markdown",
   "metadata": {
    "tags": []
   },
   "source": [
    "# Audio Scene Classification for Binaural Ensembles\n",
    "## Data generation and model building\n",
    "\n",
    "**Table of Content**\n",
    "\n",
    "1. HRIR Preparation\n",
    "    - Store all HRIR in ***hrir_array***, and store the sample rate in ***hrir_sr***\n",
    "    - Print List of HRIR files, and display audio for checking\n",
    "2. HRIR Vector Preparation\n",
    "    - Create ***hrir_vector*** to store the azimuth and elevation of corresponding HRIR files in ***hrir_array***\n",
    "3. VBAP Panner Class\n",
    "    - Detailed description in the class cell\n"
   ]
  },
  {
   "cell_type": "code",
   "execution_count": 1,
   "metadata": {
    "id": "4-MJrJUkeZXt"
   },
   "outputs": [],
   "source": [
    "import vbap_utils as u"
   ]
  },
  {
   "cell_type": "markdown",
   "metadata": {},
   "source": [
    "### 1. HRIR Preparation"
   ]
  },
  {
   "cell_type": "code",
   "execution_count": null,
   "metadata": {
    "id": "xEB3aT_NuLll",
    "scrolled": true,
    "tags": []
   },
   "outputs": [],
   "source": [
    "# load hrtf\n",
    "hrtf_set = u.hrtf()\n",
    "hrtf_set.load()"
   ]
  },
  {
   "cell_type": "code",
   "execution_count": null,
   "metadata": {
    "id": "xEB3aT_NuLll",
    "scrolled": true,
    "tags": []
   },
   "outputs": [],
   "source": [
    "# print hrtf files\n",
    "hrtf_set.print_files()"
   ]
  },
  {
   "cell_type": "code",
   "execution_count": null,
   "metadata": {
    "scrolled": true,
    "tags": []
   },
   "outputs": [],
   "source": [
    "# play hrtf files for checking\n",
    "hrtf_set.play_files()"
   ]
  },
  {
   "cell_type": "code",
   "execution_count": null,
   "metadata": {},
   "outputs": [],
   "source": [
    "# print speaker arrays\n",
    "hrtf_set.print_speaker_array()"
   ]
  },
  {
   "cell_type": "code",
   "execution_count": null,
   "metadata": {
    "tags": []
   },
   "outputs": [],
   "source": [
    "# get hrtf data\n",
    "hrtf_array, hrtf_sr, hrtf_vector = hrtf_set.get()\n",
    "\n",
    "print(hrtf_array.shape)\n",
    "print(hrtf_sr)\n",
    "print(hrtf_vector.shape)"
   ]
  },
  {
   "cell_type": "markdown",
   "metadata": {},
   "source": [
    "### 2. Create vbap panner"
   ]
  },
  {
   "cell_type": "code",
   "execution_count": null,
   "metadata": {},
   "outputs": [],
   "source": [
    "panner = u.vbap_panner(hrtf_array, hrtf_sr, hrtf_vector)"
   ]
  },
  {
   "cell_type": "code",
   "execution_count": null,
   "metadata": {
    "id": "6HHzgRJJkdzg"
   },
   "outputs": [],
   "source": [
    " "
   ]
  },
  {
   "cell_type": "markdown",
   "metadata": {},
   "source": [
    "### 3. Generate Ensemble Locations"
   ]
  },
  {
   "cell_type": "markdown",
   "metadata": {},
   "source": [
    "#### 3.0 TEST: 8 location - 1 song - 0 width - 1 track (mix)"
   ]
  },
  {
   "cell_type": "code",
   "execution_count": 2,
   "metadata": {},
   "outputs": [],
   "source": [
    "import numpy as np\n",
    "from IPython.display import Audio"
   ]
  },
  {
   "cell_type": "code",
   "execution_count": null,
   "metadata": {},
   "outputs": [],
   "source": [
    "# num_examples = 1000\n",
    "# center_array = np.array([0, 45, 90, 135, 180, 225, 270, 315])\n",
    "# width = 0\n",
    "# max_num_tracks = 1\n",
    "\n",
    "# source_locations = u.random_generater(num_examples, center_array, width, max_num_tracks)\n",
    "# print(source_locations)"
   ]
  },
  {
   "cell_type": "markdown",
   "metadata": {},
   "source": [
    "#### 3.1 TEST: 8 location - 1 song - Increased width - 1 track (mix)"
   ]
  },
  {
   "cell_type": "code",
   "execution_count": null,
   "metadata": {},
   "outputs": [],
   "source": [
    "# num_examples = 1000\n",
    "# center_array = np.array([0, 45, 90, 135, 180, 225, 270, 315])\n",
    "# width = 20\n",
    "# max_num_tracks = 1\n",
    "\n",
    "# source_locations = u.random_generater(num_examples, center_array, width, max_num_tracks)\n",
    "# print(source_locations)"
   ]
  },
  {
   "cell_type": "code",
   "execution_count": null,
   "metadata": {},
   "outputs": [],
   "source": [
    "# duration = 3\n",
    "# sig_dir = _SOURCES[2]\n",
    "# [sig, sig_sr] = sf.read(sig_dir)\n",
    "# sig_truncated = sig[sig_sr*duration*3:sig_sr*duration*4 ,]"
   ]
  },
  {
   "cell_type": "code",
   "execution_count": null,
   "metadata": {},
   "outputs": [],
   "source": [
    "# for i in range(5):\n",
    "#     azi = source_locations[i][0] + source_locations[i][1]\n",
    "#     ele = 0\n",
    "#     print(\"Azimuth: \" +str(azi) + \", Elevation: 0\")\n",
    "#     Bin_Mix = panner.spatialize(sig_truncated, sig_sr, azi, ele)\n",
    "#     display(Audio(Bin_Mix.T, rate=panner.hrir_sr))"
   ]
  },
  {
   "cell_type": "markdown",
   "metadata": {},
   "source": [
    "#### 3.2 TEST: 8 location - 20 song - Increased width - 1 track (mix)"
   ]
  },
  {
   "cell_type": "code",
   "execution_count": null,
   "metadata": {},
   "outputs": [],
   "source": [
    "# preparing signals\n",
    "sig_array, sig_sr = u.get_sig_array(size=160)\n",
    "    \n",
    "print(sig_array.shape)\n",
    "print(sig_sr)\n",
    "print(np.max(np.abs(sig_array)))"
   ]
  },
  {
   "cell_type": "code",
   "execution_count": 3,
   "metadata": {},
   "outputs": [
    {
     "name": "stdout",
     "output_type": "stream",
     "text": [
      "[[135  19]\n",
      " [ 90  38]\n",
      " [225   7]\n",
      " ...\n",
      " [ 45  18]\n",
      " [225  13]\n",
      " [315  40]]\n"
     ]
    }
   ],
   "source": [
    "num_examples = 1000\n",
    "center_array = np.array([0, 45, 90, 135, 180, 225, 270, 315])\n",
    "width = 40\n",
    "max_num_tracks = 1\n",
    "\n",
    "source_locations = u.random_generater(num_examples, center_array, width, max_num_tracks)\n",
    "print(source_locations)"
   ]
  },
  {
   "cell_type": "code",
   "execution_count": null,
   "metadata": {},
   "outputs": [],
   "source": [
    "for i in range(5):\n",
    "    azi = source_locations[i][0] + source_locations[i][1]\n",
    "    ele = 0\n",
    "    print(\"Azimuth: \" +str(azi) + \", Elevation: 0\")\n",
    "    Bin_Mix = panner.spatialize(sig_array[i%len(sig_array)], sig_sr, azi, ele)\n",
    "    display(Audio(Bin_Mix.T, rate=panner.hrir_sr))"
   ]
  },
  {
   "cell_type": "code",
   "execution_count": null,
   "metadata": {},
   "outputs": [],
   "source": []
  },
  {
   "cell_type": "code",
   "execution_count": null,
   "metadata": {},
   "outputs": [],
   "source": [
    "# panner = vbap_panner(hrir_array, hrir_sr, hrir_vector)\n",
    "\n",
    "# duration = 15\n",
    "# for i in range(len(_SOURCES)):\n",
    "#     sig_dir = _SOURCES[i]\n",
    "#     [sig, sig_sr] = sf.read(sig_dir)\n",
    "#     sig_truncated = sig[0:sig_sr*duration,]\n",
    "#     print(str(i))\n",
    "#     azi = i*45\n",
    "#     ele = 0\n",
    "#     print(\"Azimuth: \" +str(azi) + \", Elevation: 0\")\n",
    "#     Bin_Mix = panner.spatialize(sig_truncated, sig_sr, azi, ele)\n",
    "#     display(Audio(Bin_Mix.T, rate=panner.hrir_sr))\n",
    "#     sf.write(str(i) + \"_Az\" +str(azi) + \"_Ele0.wav\",Bin_Mix,panner.hrir_sr)"
   ]
  },
  {
   "cell_type": "markdown",
   "metadata": {},
   "source": [
    "### 6. Preprocessing"
   ]
  },
  {
   "cell_type": "code",
   "execution_count": null,
   "metadata": {
    "scrolled": true,
    "tags": []
   },
   "outputs": [],
   "source": [
    "dataset = u.generate_data(source_locations, sig_array, sig_sr, panner, size=1000)\n",
    "\n",
    "print(dataset.shape)"
   ]
  },
  {
   "cell_type": "code",
   "execution_count": null,
   "metadata": {},
   "outputs": [],
   "source": [
    "# np.save('./dataset/20_song_160_seg_20_width.npy', dataset)"
   ]
  },
  {
   "cell_type": "code",
   "execution_count": 5,
   "metadata": {},
   "outputs": [],
   "source": [
    "dataset = np.load('./dataset/20_song_160_seg_40_width.npy')"
   ]
  },
  {
   "cell_type": "code",
   "execution_count": 6,
   "metadata": {},
   "outputs": [
    {
     "name": "stdout",
     "output_type": "stream",
     "text": [
      "(1000, 128, 259, 2)\n"
     ]
    }
   ],
   "source": [
    "print(dataset.shape)"
   ]
  },
  {
   "cell_type": "markdown",
   "metadata": {},
   "source": [
    "### 7. Baseline Classifier: 1 conv unit - 1 dense unit"
   ]
  },
  {
   "cell_type": "code",
   "execution_count": 4,
   "metadata": {},
   "outputs": [
    {
     "name": "stderr",
     "output_type": "stream",
     "text": [
      "2023-03-07 19:02:12.073074: I tensorflow/core/platform/cpu_feature_guard.cc:193] This TensorFlow binary is optimized with oneAPI Deep Neural Network Library (oneDNN) to use the following CPU instructions in performance-critical operations:  AVX2 FMA\n",
      "To enable them in other operations, rebuild TensorFlow with the appropriate compiler flags.\n"
     ]
    }
   ],
   "source": [
    "# Import library\n",
    "# from tensorflow import keras\n",
    "# from tensorflow.keras import layers\n",
    "import keras\n",
    "from keras.models import Sequential\n",
    "from keras.layers import Dense, Dropout, Flatten\n",
    "from keras.layers import Conv2D, MaxPooling2D, BatchNormalization\n",
    "from keras.optimizers import Adam\n",
    "from keras.callbacks import EarlyStopping"
   ]
  },
  {
   "cell_type": "code",
   "execution_count": 39,
   "metadata": {},
   "outputs": [],
   "source": [
    "# Build the model\n",
    "# Define the number of classes\n",
    "num_classes = 8\n",
    "\n",
    "# Define the input shape\n",
    "input_shape = (128,259,2)\n",
    "\n",
    "# Initialize the model\n",
    "model = Sequential()\n",
    "\n",
    "# Add the first convolutional layer\n",
    "model.add(Conv2D(16, (3, 3), strides=(2, 2), activation='relu', input_shape=input_shape))\n",
    "model.add(MaxPooling2D(pool_size=(3, 3), strides=(2, 2), padding='same'))\n",
    "\n",
    "# Add the second convolutional layer\n",
    "model.add(Conv2D(128, (3, 3), strides=(2, 2), activation='relu', padding=\"same\"))\n",
    "\n",
    "# Add the third convolutional layer\n",
    "model.add(Conv2D(64, (3, 3), strides=(2, 2), activation='relu'))\n",
    "model.add(MaxPooling2D(pool_size=(3, 3), strides=(2, 2), padding='same'))\n",
    "\n",
    "# Flatten the output of the convolutional layers\n",
    "model.add(Flatten())\n",
    "model.add(BatchNormalization())\n",
    "\n",
    "# Add the first dense layer\n",
    "model.add(Dense(256, activation='relu'))\n",
    "model.add(Dropout(0.3))\n",
    "\n",
    "# Add the second dense layer\n",
    "model.add(Dense(64, activation='relu'))\n",
    "model.add(Dropout(0.3))\n",
    "\n",
    "# Add the output layer\n",
    "model.add(Dense(num_classes, activation='softmax'))\n",
    "\n",
    "# Compile the model\n",
    "optimizer = Adam(learning_rate=0.0006)\n",
    "model.compile(loss='sparse_categorical_crossentropy', optimizer=optimizer, metrics=['accuracy'])"
   ]
  },
  {
   "cell_type": "code",
   "execution_count": 40,
   "metadata": {},
   "outputs": [],
   "source": [
    "# train test split, nomalize, reshape\n",
    "train_size = 700\n",
    "val_size = 150\n",
    "\n",
    "features_train = dataset[:train_size]\n",
    "features_val = dataset[train_size: train_size + val_size]\n",
    "features_test = dataset[train_size + val_size:]\n",
    "\n",
    "labels = source_locations[:, 0]\n",
    "\n",
    "labels_train = labels[:train_size] / 45\n",
    "labels_val = labels[train_size: train_size + val_size] / 45\n",
    "labels_test = labels[train_size + val_size:] / 45\n",
    "\n",
    "# print(labels_train)"
   ]
  },
  {
   "cell_type": "code",
   "execution_count": 41,
   "metadata": {
    "scrolled": true,
    "tags": []
   },
   "outputs": [
    {
     "name": "stdout",
     "output_type": "stream",
     "text": [
      "Epoch 1/50\n",
      "44/44 [==============================] - 3s 59ms/step - loss: 2.4431 - accuracy: 0.1829 - val_loss: 2.2271 - val_accuracy: 0.2333\n",
      "Epoch 2/50\n",
      "44/44 [==============================] - 3s 63ms/step - loss: 1.8249 - accuracy: 0.3643 - val_loss: 1.9430 - val_accuracy: 0.2067\n",
      "Epoch 3/50\n",
      "44/44 [==============================] - 3s 63ms/step - loss: 1.6349 - accuracy: 0.3886 - val_loss: 1.8222 - val_accuracy: 0.3067\n",
      "Epoch 4/50\n",
      "44/44 [==============================] - 3s 58ms/step - loss: 1.5917 - accuracy: 0.3957 - val_loss: 1.8896 - val_accuracy: 0.3133\n",
      "Epoch 5/50\n",
      "44/44 [==============================] - 2s 56ms/step - loss: 1.4594 - accuracy: 0.4343 - val_loss: 1.8774 - val_accuracy: 0.2667\n",
      "Epoch 6/50\n",
      "44/44 [==============================] - 3s 58ms/step - loss: 1.3367 - accuracy: 0.4971 - val_loss: 1.9148 - val_accuracy: 0.2333\n",
      "Epoch 7/50\n",
      "44/44 [==============================] - 3s 66ms/step - loss: 1.3342 - accuracy: 0.4871 - val_loss: 1.9013 - val_accuracy: 0.2667\n",
      "Epoch 8/50\n",
      "44/44 [==============================] - 3s 57ms/step - loss: 1.2497 - accuracy: 0.4986 - val_loss: 1.8879 - val_accuracy: 0.2933\n",
      "Epoch 9/50\n",
      "44/44 [==============================] - 2s 54ms/step - loss: 1.2094 - accuracy: 0.5400 - val_loss: 1.9737 - val_accuracy: 0.2733\n",
      "Epoch 10/50\n",
      "44/44 [==============================] - 3s 57ms/step - loss: 1.1975 - accuracy: 0.5457 - val_loss: 2.0005 - val_accuracy: 0.2800\n",
      "Epoch 11/50\n",
      "44/44 [==============================] - 2s 56ms/step - loss: 1.0697 - accuracy: 0.5700 - val_loss: 1.9541 - val_accuracy: 0.2867\n",
      "Epoch 12/50\n",
      "44/44 [==============================] - 3s 59ms/step - loss: 1.0061 - accuracy: 0.6043 - val_loss: 1.9735 - val_accuracy: 0.3067\n",
      "Epoch 13/50\n",
      "44/44 [==============================] - 2s 54ms/step - loss: 0.9786 - accuracy: 0.6329 - val_loss: 1.9707 - val_accuracy: 0.3333\n",
      "Epoch 14/50\n",
      "44/44 [==============================] - 3s 62ms/step - loss: 0.9483 - accuracy: 0.6357 - val_loss: 2.0820 - val_accuracy: 0.3467\n",
      "Epoch 15/50\n",
      "44/44 [==============================] - 3s 71ms/step - loss: 0.9342 - accuracy: 0.6271 - val_loss: 2.1313 - val_accuracy: 0.3933\n",
      "Epoch 16/50\n",
      "44/44 [==============================] - 3s 68ms/step - loss: 0.9676 - accuracy: 0.6229 - val_loss: 1.9901 - val_accuracy: 0.3733\n",
      "Epoch 17/50\n",
      "44/44 [==============================] - 3s 58ms/step - loss: 0.9797 - accuracy: 0.6257 - val_loss: 1.9878 - val_accuracy: 0.3333\n",
      "Epoch 18/50\n",
      "44/44 [==============================] - 3s 60ms/step - loss: 0.9059 - accuracy: 0.6500 - val_loss: 2.0317 - val_accuracy: 0.2933\n",
      "Epoch 19/50\n",
      "44/44 [==============================] - 3s 59ms/step - loss: 0.8656 - accuracy: 0.6414 - val_loss: 2.0998 - val_accuracy: 0.3667\n",
      "Epoch 20/50\n",
      "44/44 [==============================] - 3s 61ms/step - loss: 0.8884 - accuracy: 0.6643 - val_loss: 1.9599 - val_accuracy: 0.3467\n",
      "Epoch 21/50\n",
      "44/44 [==============================] - 2s 55ms/step - loss: 0.8602 - accuracy: 0.6571 - val_loss: 2.2793 - val_accuracy: 0.3133\n",
      "Epoch 22/50\n",
      "44/44 [==============================] - 2s 57ms/step - loss: 0.8035 - accuracy: 0.6686 - val_loss: 1.9270 - val_accuracy: 0.3333\n",
      "Epoch 23/50\n",
      "44/44 [==============================] - 2s 55ms/step - loss: 0.7825 - accuracy: 0.7157 - val_loss: 2.2081 - val_accuracy: 0.3667\n",
      "Epoch 24/50\n",
      "44/44 [==============================] - 3s 62ms/step - loss: 0.7180 - accuracy: 0.7129 - val_loss: 1.9962 - val_accuracy: 0.2933\n",
      "Epoch 25/50\n",
      "44/44 [==============================] - 2s 56ms/step - loss: 0.7591 - accuracy: 0.6986 - val_loss: 2.3772 - val_accuracy: 0.3000\n",
      "Epoch 26/50\n",
      "44/44 [==============================] - 3s 65ms/step - loss: 0.7413 - accuracy: 0.7171 - val_loss: 2.7555 - val_accuracy: 0.2867\n",
      "Epoch 27/50\n",
      "44/44 [==============================] - 3s 71ms/step - loss: 0.6846 - accuracy: 0.7414 - val_loss: 2.2393 - val_accuracy: 0.3467\n",
      "Epoch 28/50\n",
      "44/44 [==============================] - 3s 65ms/step - loss: 0.7265 - accuracy: 0.7143 - val_loss: 2.3181 - val_accuracy: 0.3733\n",
      "Epoch 29/50\n",
      "44/44 [==============================] - 3s 59ms/step - loss: 0.7166 - accuracy: 0.7171 - val_loss: 2.3654 - val_accuracy: 0.3733\n",
      "Epoch 30/50\n",
      "44/44 [==============================] - 3s 72ms/step - loss: 0.6330 - accuracy: 0.7614 - val_loss: 2.5538 - val_accuracy: 0.3200\n",
      "Epoch 31/50\n",
      "44/44 [==============================] - 3s 64ms/step - loss: 0.6508 - accuracy: 0.7429 - val_loss: 2.4546 - val_accuracy: 0.3200\n",
      "Epoch 32/50\n",
      "44/44 [==============================] - 2s 57ms/step - loss: 0.6472 - accuracy: 0.7386 - val_loss: 2.3473 - val_accuracy: 0.3400\n",
      "Epoch 33/50\n",
      "44/44 [==============================] - 2s 56ms/step - loss: 0.5254 - accuracy: 0.7886 - val_loss: 2.6328 - val_accuracy: 0.3533\n",
      "Epoch 34/50\n",
      "44/44 [==============================] - 2s 53ms/step - loss: 0.5597 - accuracy: 0.7971 - val_loss: 2.5268 - val_accuracy: 0.3800\n",
      "Epoch 35/50\n",
      "44/44 [==============================] - 3s 60ms/step - loss: 0.5558 - accuracy: 0.7843 - val_loss: 2.8361 - val_accuracy: 0.3800\n",
      "Epoch 36/50\n",
      "44/44 [==============================] - 2s 55ms/step - loss: 0.5602 - accuracy: 0.7771 - val_loss: 2.6637 - val_accuracy: 0.4000\n",
      "Epoch 37/50\n",
      "44/44 [==============================] - 3s 63ms/step - loss: 0.4815 - accuracy: 0.8157 - val_loss: 2.9349 - val_accuracy: 0.3400\n",
      "Epoch 38/50\n",
      "44/44 [==============================] - 3s 71ms/step - loss: 0.4806 - accuracy: 0.8214 - val_loss: 2.6169 - val_accuracy: 0.3267\n",
      "Epoch 39/50\n",
      "44/44 [==============================] - 3s 64ms/step - loss: 0.5932 - accuracy: 0.7771 - val_loss: 2.8918 - val_accuracy: 0.2867\n",
      "Epoch 40/50\n",
      "44/44 [==============================] - 2s 57ms/step - loss: 0.5487 - accuracy: 0.7957 - val_loss: 2.9651 - val_accuracy: 0.3333\n",
      "Epoch 41/50\n",
      "44/44 [==============================] - 3s 61ms/step - loss: 0.4575 - accuracy: 0.8314 - val_loss: 2.4788 - val_accuracy: 0.4067\n",
      "Epoch 42/50\n",
      "44/44 [==============================] - 3s 74ms/step - loss: 0.3966 - accuracy: 0.8357 - val_loss: 3.1114 - val_accuracy: 0.3200\n",
      "Epoch 43/50\n",
      "44/44 [==============================] - 3s 63ms/step - loss: 0.4816 - accuracy: 0.7971 - val_loss: 2.8727 - val_accuracy: 0.3667\n",
      "Epoch 44/50\n",
      "44/44 [==============================] - 3s 58ms/step - loss: 0.4529 - accuracy: 0.8271 - val_loss: 2.7410 - val_accuracy: 0.3667\n",
      "Epoch 45/50\n",
      "44/44 [==============================] - 2s 55ms/step - loss: 0.4715 - accuracy: 0.8171 - val_loss: 2.5168 - val_accuracy: 0.3867\n",
      "Epoch 46/50\n",
      "44/44 [==============================] - 2s 57ms/step - loss: 0.4448 - accuracy: 0.8314 - val_loss: 3.1155 - val_accuracy: 0.3800\n",
      "Epoch 47/50\n",
      "44/44 [==============================] - 3s 57ms/step - loss: 0.4467 - accuracy: 0.8257 - val_loss: 2.8510 - val_accuracy: 0.3400\n",
      "Epoch 48/50\n",
      "44/44 [==============================] - 2s 54ms/step - loss: 0.4223 - accuracy: 0.8400 - val_loss: 2.7768 - val_accuracy: 0.3933\n",
      "Epoch 49/50\n",
      "44/44 [==============================] - 3s 67ms/step - loss: 0.4686 - accuracy: 0.8157 - val_loss: 2.8749 - val_accuracy: 0.3733\n",
      "Epoch 50/50\n",
      "44/44 [==============================] - 3s 60ms/step - loss: 0.4082 - accuracy: 0.8343 - val_loss: 3.0442 - val_accuracy: 0.3533\n"
     ]
    }
   ],
   "source": [
    "# train model\n",
    "# Train the model for a specified number of epochs\n",
    "num_epochs = 50\n",
    "batch_size = 16\n",
    "callback = EarlyStopping(monitor='val_loss', patience=5, start_from_epoch=10)\n",
    "\n",
    "history = model.fit(features_train, labels_train, epochs=num_epochs,  batch_size=batch_size, validation_data=(features_val, labels_val))"
   ]
  },
  {
   "cell_type": "code",
   "execution_count": 42,
   "metadata": {},
   "outputs": [],
   "source": [
    "import numpy as np\n",
    "import matplotlib.pyplot as plt"
   ]
  },
  {
   "cell_type": "code",
   "execution_count": 43,
   "metadata": {},
   "outputs": [],
   "source": [
    "def plot_loss(history):\n",
    "    \"\"\"\n",
    "    Plot the training and validation loss and accuracy.\n",
    "\n",
    "    Parameters\n",
    "    ----------\n",
    "    history : keras.callbacks.History\n",
    "      The history object returned by the `fit` method of a Keras model.\n",
    "\n",
    "    Returns\n",
    "    -------\n",
    "    None\n",
    "    \"\"\"\n",
    "\n",
    "    # Plot the training and validation loss side by side\n",
    "    fig, ax = plt.subplots(1, 2, figsize=(10, 5))\n",
    "\n",
    "    # Plot the training and validation loss\n",
    "    ax[0].plot(history.history['loss'], label='train')\n",
    "    ax[0].plot(history.history['val_loss'], label='val')\n",
    "    ax[0].set_xlabel('Epoch')\n",
    "    ax[0].set_ylabel('Loss')\n",
    "    ax[0].legend()\n",
    "\n",
    "    # Plot the training and validation accuracy\n",
    "    ax[1].plot(history.history['accuracy'], label='train')\n",
    "    ax[1].plot(history.history['val_accuracy'], label='val')\n",
    "    ax[1].set_xlabel('Epoch')\n",
    "    ax[1].set_ylabel('Accuracy')\n",
    "    ax[1].legend()\n",
    "    "
   ]
  },
  {
   "cell_type": "code",
   "execution_count": 44,
   "metadata": {},
   "outputs": [
    {
     "data": {
      "image/png": "[encoded data removed]",
      "text/plain": [
       "<Figure size 720x360 with 2 Axes>"
      ]
     },
     "metadata": {
      "needs_background": "light"
     },
     "output_type": "display_data"
    }
   ],
   "source": [
    "plot_loss(history)"
   ]
  },
  {
   "cell_type": "code",
   "execution_count": 45,
   "metadata": {},
   "outputs": [
    {
     "name": "stdout",
     "output_type": "stream",
     "text": [
      "5/5 [==============================] - 0s 28ms/step\n",
      "[9.5927835e-01 8.3971463e-06 6.0017187e-06 6.5052343e-05 6.0030989e-06\n",
      " 1.5721895e-03 5.0905892e-05 3.9013136e-02]\n",
      "7.0\n",
      "(150,)\n"
     ]
    }
   ],
   "source": [
    "# pridiction analysis\n",
    "predictions = model.predict(features_test)\n",
    "print(predictions[0])\n",
    "\n",
    "print(labels_test[0])\n",
    "\n",
    "print(labels_val.shape)"
   ]
  },
  {
   "cell_type": "code",
   "execution_count": 46,
   "metadata": {},
   "outputs": [
    {
     "name": "stdout",
     "output_type": "stream",
     "text": [
      "5/5 [==============================] - 0s 28ms/step - loss: 1.9689 - accuracy: 0.4467\n",
      "test_acc: 0.4466666579246521\n"
     ]
    }
   ],
   "source": [
    "test_loss, test_acc = model.evaluate(features_test, labels_test)\n",
    "print(f\"test_acc: {test_acc}\")"
   ]
  },
  {
   "cell_type": "code",
   "execution_count": 15,
   "metadata": {},
   "outputs": [],
   "source": [
    "# model.save('./dataset/model1.0')"
   ]
  },
  {
   "cell_type": "code",
   "execution_count": null,
   "metadata": {},
   "outputs": [],
   "source": []
  },
  {
   "cell_type": "code",
   "execution_count": null,
   "metadata": {},
   "outputs": [],
   "source": []
  },
  {
   "cell_type": "code",
   "execution_count": 47,
   "metadata": {
    "scrolled": true,
    "tags": []
   },
   "outputs": [
    {
     "name": "stdout",
     "output_type": "stream",
     "text": [
      "150\n"
     ]
    }
   ],
   "source": [
    "y_true = labels_test\n",
    "y_pred = []\n",
    "for i in range(len(predictions)):\n",
    "    y_pred.append(np.argmax(predictions[i]))\n",
    "\n",
    "print(y_true.size)\n"
   ]
  },
  {
   "cell_type": "code",
   "execution_count": 48,
   "metadata": {},
   "outputs": [],
   "source": [
    "import sklearn as sk"
   ]
  },
  {
   "cell_type": "code",
   "execution_count": 49,
   "metadata": {},
   "outputs": [
    {
     "data": {
      "image/png": "[encoded data removed]",
      "text/plain": [
       "<Figure size 720x720 with 2 Axes>"
      ]
     },
     "metadata": {
      "needs_background": "light"
     },
     "output_type": "display_data"
    }
   ],
   "source": [
    "\n",
    "\n",
    "cm = sk.metrics.confusion_matrix(y_true, y_pred, normalize = 'true')\n",
    "disp = sk.metrics.ConfusionMatrixDisplay(confusion_matrix=cm)\n",
    "\n",
    "plt.rc('xtick', labelsize=8) \n",
    "plt.rc('ytick', labelsize=8) \n",
    "disp.plot()\n",
    "fig = disp.ax_.get_figure() \n",
    "fig.set_figwidth(10)\n",
    "fig.set_figheight(10)  \n",
    "plt.show(disp)"
   ]
  },
  {
   "cell_type": "code",
   "execution_count": null,
   "metadata": {},
   "outputs": [],
   "source": []
  },
  {
   "cell_type": "code",
   "execution_count": null,
   "metadata": {},
   "outputs": [],
   "source": []
  },
  {
   "cell_type": "code",
   "execution_count": null,
   "metadata": {},
   "outputs": [],
   "source": []
  },
  {
   "cell_type": "code",
   "execution_count": null,
   "metadata": {},
   "outputs": [],
   "source": []
  },
  {
   "cell_type": "code",
   "execution_count": null,
   "metadata": {},
   "outputs": [],
   "source": []
  },
  {
   "cell_type": "markdown",
   "metadata": {},
   "source": [
    "### Future Work\n",
    "- Finish the Data Generation Pipeline\n",
    "    - Input:\n",
    "        - /Dataset/Examples/Stems\n",
    "        - Azimuth locations ([0, 45, 90, 135, 180, 225, 270, 315])\n",
    "        - Width (Location for each stem = Azimuth location +- Width/2)\n",
    "    - Output\n",
    "        - Binuaralized Examples\n",
    "        - Location label, dimension? how to store?\n",
    "- Use Slakh Library to generate a protype dataset\n",
    "    - Use Mirdata?\n",
    "        - Multitrack object?"
   ]
  }
 ],
 "metadata": {
  "colab": {
   "provenance": []
  },
  "kernelspec": {
   "display_name": "Python 3 (ipykernel)",
   "language": "python",
   "name": "python3"
  },
  "language_info": {
   "codemirror_mode": {
    "name": "ipython",
    "version": 3
   },
   "file_extension": ".py",
   "mimetype": "text/x-python",
   "name": "python",
   "nbconvert_exporter": "python",
   "pygments_lexer": "ipython3",
   "version": "3.10.9"
  }
 },
 "nbformat": 4,
 "nbformat_minor": 4
}
